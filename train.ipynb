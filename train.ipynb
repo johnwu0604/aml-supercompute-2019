{
 "cells": [
  {
   "cell_type": "code",
   "execution_count": 1,
   "metadata": {},
   "outputs": [],
   "source": [
    "from tensorflow.keras.applications.resnet50 import ResNet50, preprocess_input\n",
    "from tensorflow.keras.preprocessing.image import ImageDataGenerator\n",
    "from tensorflow.keras import Sequential\n",
    "from tensorflow.keras import layers\n",
    "from tensorflow.keras.optimizers import Adam\n",
    "from PIL import ImageFile\n",
    "ImageFile.LOAD_TRUNCATED_IMAGES = True"
   ]
  },
  {
   "cell_type": "code",
   "execution_count": 7,
   "metadata": {},
   "outputs": [],
   "source": [
    "data_dir = 'data'\n",
    "image_dim = 250\n",
    "batch_size = 16\n",
    "steps_per_epoch = 100\n",
    "num_epochs = 25\n",
    "classes = ['Lebron_James', 'Stephen_Curry']"
   ]
  },
  {
   "cell_type": "code",
   "execution_count": 8,
   "metadata": {},
   "outputs": [
    {
     "name": "stdout",
     "output_type": "stream",
     "text": [
      "Found 673 images belonging to 2 classes.\n",
      "Found 324 images belonging to 2 classes.\n"
     ]
    }
   ],
   "source": [
    "datagen = ImageDataGenerator(preprocessing_function=preprocess_input,\n",
    "                             rotation_range=90,\n",
    "                             width_shift_range=0.1, \n",
    "                             height_shift_range=0.1, \n",
    "                             shear_range=0.2, \n",
    "                             zoom_range=0.2,\n",
    "                             horizontal_flip=True,\n",
    "                             vertical_flip=False)\n",
    "\n",
    "train_generator = datagen.flow_from_directory(os.path.join(data_dir, 'train'),\n",
    "                                              target_size=(image_dim, image_dim),\n",
    "                                              color_mode='rgb',\n",
    "                                              batch_size=batch_size,\n",
    "                                              class_mode='categorical',\n",
    "                                              classes=classes)\n",
    "\n",
    "valid_generator = datagen.flow_from_directory(os.path.join(data_dir, 'valid'),\n",
    "                                              target_size=(image_dim, image_dim),\n",
    "                                              color_mode='rgb',\n",
    "                                              batch_size=batch_size,\n",
    "                                              class_mode='categorical',\n",
    "                                              classes=classes)\n"
   ]
  },
  {
   "cell_type": "code",
   "execution_count": 9,
   "metadata": {},
   "outputs": [],
   "source": [
    "base_model = ResNet50(weights='imagenet', \n",
    "                      include_top=False, \n",
    "                      input_shape=(image_dim, image_dim, 3))\n",
    "base_model.trainable = False"
   ]
  },
  {
   "cell_type": "code",
   "execution_count": 10,
   "metadata": {},
   "outputs": [],
   "source": [
    "model = Sequential([\n",
    "    base_model,\n",
    "    layers.GlobalAveragePooling2D(),\n",
    "    layers.Dropout(0.5),\n",
    "    layers.Dense(len(classes), activation='softmax')\n",
    "])"
   ]
  },
  {
   "cell_type": "code",
   "execution_count": 11,
   "metadata": {},
   "outputs": [
    {
     "name": "stdout",
     "output_type": "stream",
     "text": [
      "Epoch 1/25\n",
      "100/100 [==============================] - 139s 1s/step - loss: 0.5132 - accuracy: 0.7567 - val_loss: 0.7684 - val_accuracy: 0.6562\n",
      "Epoch 2/25\n",
      "100/100 [==============================] - 107s 1s/step - loss: 0.3978 - accuracy: 0.8264 - val_loss: 1.0276 - val_accuracy: 0.6438\n",
      "Epoch 3/25\n",
      "100/100 [==============================] - 119s 1s/step - loss: 0.3063 - accuracy: 0.8713 - val_loss: 0.4603 - val_accuracy: 0.8125\n",
      "Epoch 4/25\n",
      "100/100 [==============================] - 146s 1s/step - loss: 0.2887 - accuracy: 0.8778 - val_loss: 0.7356 - val_accuracy: 0.7437\n",
      "Epoch 5/25\n",
      "100/100 [==============================] - 104s 1s/step - loss: 0.2634 - accuracy: 0.8892 - val_loss: 0.3875 - val_accuracy: 0.8500\n",
      "Epoch 6/25\n",
      "100/100 [==============================] - 117s 1s/step - loss: 0.2757 - accuracy: 0.8968 - val_loss: 0.5523 - val_accuracy: 0.7875\n",
      "Epoch 7/25\n",
      "100/100 [==============================] - 132s 1s/step - loss: 0.2537 - accuracy: 0.9000 - val_loss: 0.4130 - val_accuracy: 0.8625\n",
      "Epoch 8/25\n",
      "100/100 [==============================] - 101s 1s/step - loss: 0.2725 - accuracy: 0.8900 - val_loss: 0.3753 - val_accuracy: 0.8625\n",
      "Epoch 9/25\n",
      "100/100 [==============================] - 98s 982ms/step - loss: 0.2275 - accuracy: 0.9064 - val_loss: 0.4972 - val_accuracy: 0.8125\n",
      "Epoch 10/25\n",
      "100/100 [==============================] - 112s 1s/step - loss: 0.2225 - accuracy: 0.9006 - val_loss: 0.6102 - val_accuracy: 0.7875\n",
      "Epoch 11/25\n",
      "100/100 [==============================] - 94s 944ms/step - loss: 0.2269 - accuracy: 0.9061 - val_loss: 0.3432 - val_accuracy: 0.8687\n",
      "Epoch 12/25\n",
      "100/100 [==============================] - 96s 956ms/step - loss: 0.2539 - accuracy: 0.8994 - val_loss: 0.5484 - val_accuracy: 0.8000\n",
      "Epoch 13/25\n",
      "100/100 [==============================] - 97s 971ms/step - loss: 0.2625 - accuracy: 0.8987 - val_loss: 0.6322 - val_accuracy: 0.7875\n",
      "Epoch 14/25\n",
      "100/100 [==============================] - 88s 880ms/step - loss: 0.2515 - accuracy: 0.9042 - val_loss: 0.5155 - val_accuracy: 0.8188\n",
      "Epoch 15/25\n",
      "100/100 [==============================] - 88s 881ms/step - loss: 0.2076 - accuracy: 0.9115 - val_loss: 0.5057 - val_accuracy: 0.8313\n",
      "Epoch 16/25\n",
      "100/100 [==============================] - 102s 1s/step - loss: 0.2030 - accuracy: 0.9153 - val_loss: 0.4907 - val_accuracy: 0.8438\n",
      "Epoch 17/25\n",
      "100/100 [==============================] - 89s 887ms/step - loss: 0.2313 - accuracy: 0.9119 - val_loss: 0.3733 - val_accuracy: 0.8625\n",
      "Epoch 18/25\n",
      "100/100 [==============================] - 96s 960ms/step - loss: 0.2065 - accuracy: 0.9115 - val_loss: 0.4566 - val_accuracy: 0.8313\n",
      "Epoch 19/25\n",
      "100/100 [==============================] - 99s 993ms/step - loss: 0.2233 - accuracy: 0.9089 - val_loss: 0.5366 - val_accuracy: 0.8125\n",
      "Epoch 20/25\n",
      "100/100 [==============================] - 94s 937ms/step - loss: 0.3479 - accuracy: 0.8939 - val_loss: 0.6660 - val_accuracy: 0.7812\n",
      "Epoch 21/25\n",
      "100/100 [==============================] - 90s 897ms/step - loss: 0.2393 - accuracy: 0.9019 - val_loss: 0.7543 - val_accuracy: 0.7875\n",
      "Epoch 22/25\n",
      "100/100 [==============================] - 96s 961ms/step - loss: 0.2307 - accuracy: 0.9064 - val_loss: 0.7124 - val_accuracy: 0.8062\n",
      "Epoch 23/25\n",
      "100/100 [==============================] - 88s 877ms/step - loss: 0.2496 - accuracy: 0.9076 - val_loss: 0.3957 - val_accuracy: 0.8813\n",
      "Epoch 24/25\n",
      "100/100 [==============================] - 89s 894ms/step - loss: 0.2525 - accuracy: 0.9029 - val_loss: 0.8702 - val_accuracy: 0.7437\n",
      "Epoch 25/25\n",
      "100/100 [==============================] - 105s 1s/step - loss: 0.2257 - accuracy: 0.9146 - val_loss: 0.4620 - val_accuracy: 0.8750\n"
     ]
    },
    {
     "data": {
      "text/plain": [
       "<tensorflow.python.keras.callbacks.History at 0x7f80296abda0>"
      ]
     },
     "execution_count": 11,
     "metadata": {},
     "output_type": "execute_result"
    }
   ],
   "source": [
    "model.compile(optimizer=Adam(), loss='binary_crossentropy', metrics=['accuracy'])\n",
    "\n",
    "model.fit_generator(train_generator, \n",
    "                    steps_per_epoch=steps_per_epoch,\n",
    "                    epochs=num_epochs,\n",
    "                    validation_data=valid_generator, \n",
    "                    validation_steps=10,\n",
    "                    verbose=1)"
   ]
  },
  {
   "cell_type": "code",
   "execution_count": 28,
   "metadata": {},
   "outputs": [],
   "source": [
    "model.save('model.h5')"
   ]
  },
  {
   "cell_type": "code",
   "execution_count": 26,
   "metadata": {},
   "outputs": [],
   "source": [
    "import cv2\n",
    "import numpy as np\n",
    "\n",
    "filename = 'test/lebron.jpg'\n",
    "face_classifier = cv2.CascadeClassifier('haarcascade_frontalface_default.xml')\n",
    "image = cv2.imread(filename)\n",
    "image = cv2.cvtColor(image, cv2.COLOR_BGR2RGB)\n",
    "detected_face = face_classifier.detectMultiScale(image, scaleFactor=1.1, minNeighbors=1, minSize=(1,1))\n",
    "x = detected_face[0][0]\n",
    "y = detected_face[0][1]\n",
    "l = detected_face[0][2]\n",
    "w = detected_face[0][3]\n",
    "image = image[y:y+l, x:x+w]\n",
    "image = cv2.resize(image, (image_dim, image_dim))\n",
    "image = np.float32(image)"
   ]
  },
  {
   "cell_type": "code",
   "execution_count": 27,
   "metadata": {},
   "outputs": [
    {
     "data": {
      "text/plain": [
       "array([[0.9197328, 0.0802672]], dtype=float32)"
      ]
     },
     "execution_count": 27,
     "metadata": {},
     "output_type": "execute_result"
    }
   ],
   "source": [
    "model.predict([[image]])"
   ]
  },
  {
   "cell_type": "code",
   "execution_count": null,
   "metadata": {},
   "outputs": [],
   "source": []
  }
 ],
 "metadata": {
  "kernelspec": {
   "display_name": "Python 3.6 - AzureML",
   "language": "python",
   "name": "python3-azureml"
  },
  "language_info": {
   "codemirror_mode": {
    "name": "ipython",
    "version": 3
   },
   "file_extension": ".py",
   "mimetype": "text/x-python",
   "name": "python",
   "nbconvert_exporter": "python",
   "pygments_lexer": "ipython3",
   "version": "3.6.9"
  }
 },
 "nbformat": 4,
 "nbformat_minor": 2
}
